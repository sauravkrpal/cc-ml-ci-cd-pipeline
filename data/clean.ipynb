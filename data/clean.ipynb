{
 "cells": [
  {
   "cell_type": "code",
   "execution_count": 1,
   "id": "5becb436",
   "metadata": {},
   "outputs": [],
   "source": [
    "import pandas as pd\n",
    "from sklearn.model_selection import train_test_split"
   ]
  },
  {
   "cell_type": "code",
   "execution_count": 2,
   "id": "256c5778",
   "metadata": {},
   "outputs": [
    {
     "name": "stderr",
     "output_type": "stream",
     "text": [
      "<>:1: SyntaxWarning: invalid escape sequence '\\c'\n",
      "<>:1: SyntaxWarning: invalid escape sequence '\\c'\n",
      "C:\\Users\\lenovo\\AppData\\Local\\Temp\\ipykernel_26956\\3452049852.py:1: SyntaxWarning: invalid escape sequence '\\c'\n",
      "  df = pd.read_csv('C:\\cc-ml-ci-cd-pipeline\\data\\WA_Fn-UseC_-Telco-Customer-Churn.csv')\n"
     ]
    }
   ],
   "source": [
    "df = pd.read_csv('C:\\cc-ml-ci-cd-pipeline\\data\\WA_Fn-UseC_-Telco-Customer-Churn.csv')"
   ]
  },
  {
   "cell_type": "code",
   "execution_count": 3,
   "id": "c463b2ba",
   "metadata": {},
   "outputs": [],
   "source": [
    "X = pd.get_dummies(df.drop(['customerID', 'Churn'], axis = 1), drop_first = 1)\n",
    "y = df['Churn']\n",
    "X_train, X_test, y_train, y_test = train_test_split(X, y, test_size = 0.1, random_state = 101)"
   ]
  },
  {
   "cell_type": "code",
   "execution_count": 4,
   "id": "b3f556a0",
   "metadata": {},
   "outputs": [
    {
     "name": "stderr",
     "output_type": "stream",
     "text": [
      "<>:1: SyntaxWarning: invalid escape sequence '\\c'\n",
      "<>:1: SyntaxWarning: invalid escape sequence '\\c'\n",
      "C:\\Users\\lenovo\\AppData\\Local\\Temp\\ipykernel_26956\\2337311866.py:1: SyntaxWarning: invalid escape sequence '\\c'\n",
      "  df.to_csv('C:\\cc-ml-ci-cd-pipeline\\data\\processed_data.csv', index=False)\n"
     ]
    }
   ],
   "source": [
    "df.to_csv('C:\\cc-ml-ci-cd-pipeline\\data\\processed_data.csv', index=False)"
   ]
  },
  {
   "cell_type": "code",
   "execution_count": null,
   "id": "7ade6a15",
   "metadata": {},
   "outputs": [],
   "source": []
  }
 ],
 "metadata": {
  "kernelspec": {
   "display_name": ".conda",
   "language": "python",
   "name": "python3"
  },
  "language_info": {
   "codemirror_mode": {
    "name": "ipython",
    "version": 3
   },
   "file_extension": ".py",
   "mimetype": "text/x-python",
   "name": "python",
   "nbconvert_exporter": "python",
   "pygments_lexer": "ipython3",
   "version": "3.12.1"
  }
 },
 "nbformat": 4,
 "nbformat_minor": 5
}
